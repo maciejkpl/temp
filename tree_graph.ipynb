{
  "nbformat": 4,
  "nbformat_minor": 0,
  "metadata": {
    "colab": {
      "name": "tree_graph.ipynb",
      "version": "0.3.2",
      "provenance": [],
      "collapsed_sections": [],
      "include_colab_link": true
    },
    "kernelspec": {
      "name": "python3",
      "display_name": "Python 3"
    }
  },
  "cells": [
    {
      "cell_type": "markdown",
      "metadata": {
        "id": "view-in-github",
        "colab_type": "text"
      },
      "source": [
        "<a href=\"https://colab.research.google.com/github/maciejkpl/temp/blob/master/tree_graph.ipynb\" target=\"_parent\"><img src=\"https://colab.research.google.com/assets/colab-badge.svg\" alt=\"Open In Colab\"/></a>"
      ]
    },
    {
      "cell_type": "code",
      "metadata": {
        "id": "rEcl9bZjud7_",
        "colab_type": "code",
        "colab": {}
      },
      "source": [
        "# https://pypi.python.org/pypi/pydot\n",
        "# !apt-get -qq install -y graphviz && pip install -q pydot\n",
        "# import pydot"
      ],
      "execution_count": 0,
      "outputs": []
    },
    {
      "cell_type": "code",
      "metadata": {
        "id": "HPQw2w8mt5en",
        "colab_type": "code",
        "colab": {}
      },
      "source": [
        "import numpy as np\n",
        "import pandas as pd\n",
        "\n",
        "import sklearn\n",
        "import os\n",
        "import io\n",
        "\n",
        "from pandas import DataFrame as df\n",
        "\n",
        "# !wget http://media.sundog-soft.com/Udemy/DataScience.zip\n",
        "# !unzip DataScience.zip\n",
        "folder = 'DataScience-Python3'\n",
        "# os.listdir(folder)"
      ],
      "execution_count": 0,
      "outputs": []
    },
    {
      "cell_type": "code",
      "metadata": {
        "id": "b2TG9n00wlO_",
        "colab_type": "code",
        "colab": {
          "base_uri": "https://localhost:8080/",
          "height": 197
        },
        "outputId": "820ad0ec-4380-46b6-87ef-0a2e3a4ef7e6"
      },
      "source": [
        "input_file = os.path.join(folder, 'PastHires.csv')\n",
        "df = pd.read_csv(input_file)\n",
        "df.head()"
      ],
      "execution_count": 33,
      "outputs": [
        {
          "output_type": "execute_result",
          "data": {
            "text/html": [
              "<div>\n",
              "<style scoped>\n",
              "    .dataframe tbody tr th:only-of-type {\n",
              "        vertical-align: middle;\n",
              "    }\n",
              "\n",
              "    .dataframe tbody tr th {\n",
              "        vertical-align: top;\n",
              "    }\n",
              "\n",
              "    .dataframe thead th {\n",
              "        text-align: right;\n",
              "    }\n",
              "</style>\n",
              "<table border=\"1\" class=\"dataframe\">\n",
              "  <thead>\n",
              "    <tr style=\"text-align: right;\">\n",
              "      <th></th>\n",
              "      <th>Years Experience</th>\n",
              "      <th>Employed?</th>\n",
              "      <th>Previous employers</th>\n",
              "      <th>Level of Education</th>\n",
              "      <th>Top-tier school</th>\n",
              "      <th>Interned</th>\n",
              "      <th>Hired</th>\n",
              "    </tr>\n",
              "  </thead>\n",
              "  <tbody>\n",
              "    <tr>\n",
              "      <th>0</th>\n",
              "      <td>10</td>\n",
              "      <td>Y</td>\n",
              "      <td>4</td>\n",
              "      <td>BS</td>\n",
              "      <td>N</td>\n",
              "      <td>N</td>\n",
              "      <td>Y</td>\n",
              "    </tr>\n",
              "    <tr>\n",
              "      <th>1</th>\n",
              "      <td>0</td>\n",
              "      <td>N</td>\n",
              "      <td>0</td>\n",
              "      <td>BS</td>\n",
              "      <td>Y</td>\n",
              "      <td>Y</td>\n",
              "      <td>Y</td>\n",
              "    </tr>\n",
              "    <tr>\n",
              "      <th>2</th>\n",
              "      <td>7</td>\n",
              "      <td>N</td>\n",
              "      <td>6</td>\n",
              "      <td>BS</td>\n",
              "      <td>N</td>\n",
              "      <td>N</td>\n",
              "      <td>N</td>\n",
              "    </tr>\n",
              "    <tr>\n",
              "      <th>3</th>\n",
              "      <td>2</td>\n",
              "      <td>Y</td>\n",
              "      <td>1</td>\n",
              "      <td>MS</td>\n",
              "      <td>Y</td>\n",
              "      <td>N</td>\n",
              "      <td>Y</td>\n",
              "    </tr>\n",
              "    <tr>\n",
              "      <th>4</th>\n",
              "      <td>20</td>\n",
              "      <td>N</td>\n",
              "      <td>2</td>\n",
              "      <td>PhD</td>\n",
              "      <td>Y</td>\n",
              "      <td>N</td>\n",
              "      <td>N</td>\n",
              "    </tr>\n",
              "  </tbody>\n",
              "</table>\n",
              "</div>"
            ],
            "text/plain": [
              "   Years Experience Employed?  ...  Interned Hired\n",
              "0                10         Y  ...         N     Y\n",
              "1                 0         N  ...         Y     Y\n",
              "2                 7         N  ...         N     N\n",
              "3                 2         Y  ...         N     Y\n",
              "4                20         N  ...         N     N\n",
              "\n",
              "[5 rows x 7 columns]"
            ]
          },
          "metadata": {
            "tags": []
          },
          "execution_count": 33
        }
      ]
    },
    {
      "cell_type": "code",
      "metadata": {
        "id": "IU8Qjb55w47Q",
        "colab_type": "code",
        "colab": {
          "base_uri": "https://localhost:8080/",
          "height": 197
        },
        "outputId": "bcff6f5a-7741-4cd5-dbf6-0c3800ada29e"
      },
      "source": [
        "dict_for_mapping = {'Y': 1, 'N': 0}\n",
        "columns_to_map = ['Employed?', 'Top-tier school', 'Interned', 'Hired']\n",
        "for col in columns_to_map:\n",
        "    df[col] = df[col].map(dict_for_mapping)\n",
        "\n",
        "d2_for_mapping = {'BS':1,'MS':2,'PhD':3}\n",
        "df['Level of Education'] = df['Level of Education'].map(d2_for_mapping)\n",
        "df.head()"
      ],
      "execution_count": 34,
      "outputs": [
        {
          "output_type": "execute_result",
          "data": {
            "text/html": [
              "<div>\n",
              "<style scoped>\n",
              "    .dataframe tbody tr th:only-of-type {\n",
              "        vertical-align: middle;\n",
              "    }\n",
              "\n",
              "    .dataframe tbody tr th {\n",
              "        vertical-align: top;\n",
              "    }\n",
              "\n",
              "    .dataframe thead th {\n",
              "        text-align: right;\n",
              "    }\n",
              "</style>\n",
              "<table border=\"1\" class=\"dataframe\">\n",
              "  <thead>\n",
              "    <tr style=\"text-align: right;\">\n",
              "      <th></th>\n",
              "      <th>Years Experience</th>\n",
              "      <th>Employed?</th>\n",
              "      <th>Previous employers</th>\n",
              "      <th>Level of Education</th>\n",
              "      <th>Top-tier school</th>\n",
              "      <th>Interned</th>\n",
              "      <th>Hired</th>\n",
              "    </tr>\n",
              "  </thead>\n",
              "  <tbody>\n",
              "    <tr>\n",
              "      <th>0</th>\n",
              "      <td>10</td>\n",
              "      <td>1</td>\n",
              "      <td>4</td>\n",
              "      <td>1</td>\n",
              "      <td>0</td>\n",
              "      <td>0</td>\n",
              "      <td>1</td>\n",
              "    </tr>\n",
              "    <tr>\n",
              "      <th>1</th>\n",
              "      <td>0</td>\n",
              "      <td>0</td>\n",
              "      <td>0</td>\n",
              "      <td>1</td>\n",
              "      <td>1</td>\n",
              "      <td>1</td>\n",
              "      <td>1</td>\n",
              "    </tr>\n",
              "    <tr>\n",
              "      <th>2</th>\n",
              "      <td>7</td>\n",
              "      <td>0</td>\n",
              "      <td>6</td>\n",
              "      <td>1</td>\n",
              "      <td>0</td>\n",
              "      <td>0</td>\n",
              "      <td>0</td>\n",
              "    </tr>\n",
              "    <tr>\n",
              "      <th>3</th>\n",
              "      <td>2</td>\n",
              "      <td>1</td>\n",
              "      <td>1</td>\n",
              "      <td>2</td>\n",
              "      <td>1</td>\n",
              "      <td>0</td>\n",
              "      <td>1</td>\n",
              "    </tr>\n",
              "    <tr>\n",
              "      <th>4</th>\n",
              "      <td>20</td>\n",
              "      <td>0</td>\n",
              "      <td>2</td>\n",
              "      <td>3</td>\n",
              "      <td>1</td>\n",
              "      <td>0</td>\n",
              "      <td>0</td>\n",
              "    </tr>\n",
              "  </tbody>\n",
              "</table>\n",
              "</div>"
            ],
            "text/plain": [
              "   Years Experience  Employed?  ...  Interned  Hired\n",
              "0                10          1  ...         0      1\n",
              "1                 0          0  ...         1      1\n",
              "2                 7          0  ...         0      0\n",
              "3                 2          1  ...         0      1\n",
              "4                20          0  ...         0      0\n",
              "\n",
              "[5 rows x 7 columns]"
            ]
          },
          "metadata": {
            "tags": []
          },
          "execution_count": 34
        }
      ]
    },
    {
      "cell_type": "code",
      "metadata": {
        "id": "AAqTzgeAyIeD",
        "colab_type": "code",
        "colab": {}
      },
      "source": [
        "from sklearn import tree\n",
        "\n",
        "X = df.drop(columns='Hired')\n",
        "y = df['Hired']\n",
        "columns = list(X.columns)"
      ],
      "execution_count": 0,
      "outputs": []
    },
    {
      "cell_type": "code",
      "metadata": {
        "id": "br4VlrSByh05",
        "colab_type": "code",
        "colab": {
          "base_uri": "https://localhost:8080/",
          "height": 52
        },
        "outputId": "e294a4c6-df54-481d-b9e0-2972654ef527"
      },
      "source": [
        "X = X.to_numpy()\n",
        "X = X.astype('float32')\n",
        "print(X.dtype)\n",
        "y = y.to_numpy()\n",
        "y = y.astype('float32')\n",
        "print(y.dtype)"
      ],
      "execution_count": 36,
      "outputs": [
        {
          "output_type": "stream",
          "text": [
            "float32\n",
            "float32\n"
          ],
          "name": "stdout"
        }
      ]
    },
    {
      "cell_type": "code",
      "metadata": {
        "id": "Yid3HIp8zWCp",
        "colab_type": "code",
        "colab": {
          "base_uri": "https://localhost:8080/",
          "height": 123
        },
        "outputId": "1bb766f0-fcb6-4fe7-84c1-addac287d6e5"
      },
      "source": [
        "model = tree.DecisionTreeClassifier()\n",
        "model.fit(X,y)"
      ],
      "execution_count": 37,
      "outputs": [
        {
          "output_type": "execute_result",
          "data": {
            "text/plain": [
              "DecisionTreeClassifier(class_weight=None, criterion='gini', max_depth=None,\n",
              "                       max_features=None, max_leaf_nodes=None,\n",
              "                       min_impurity_decrease=0.0, min_impurity_split=None,\n",
              "                       min_samples_leaf=1, min_samples_split=2,\n",
              "                       min_weight_fraction_leaf=0.0, presort=False,\n",
              "                       random_state=None, splitter='best')"
            ]
          },
          "metadata": {
            "tags": []
          },
          "execution_count": 37
        }
      ]
    },
    {
      "cell_type": "code",
      "metadata": {
        "id": "BMVnoV8G07kJ",
        "colab_type": "code",
        "colab": {}
      },
      "source": [
        "# !pip install --pre -f https://sklearn-nightly.scdn8.secure.raxcdn.com scikit-learn==0.22dev0"
      ],
      "execution_count": 0,
      "outputs": []
    },
    {
      "cell_type": "code",
      "metadata": {
        "id": "rSscXf-1zjgV",
        "colab_type": "code",
        "colab": {
          "base_uri": "https://localhost:8080/",
          "height": 265
        },
        "outputId": "aeae8a78-174f-4b57-f0c3-ebf6be0e903c"
      },
      "source": [
        "import matplotlib.pyplot as plt\n",
        "from sklearn.tree import export_graphviz\n",
        "from sklearn.tree import export_text\n",
        "from sklearn.tree import plot_tree\n",
        "\n",
        "text = export_text(\n",
        "    decision_tree=model,\n",
        "    feature_names=columns,\n",
        ")\n",
        "print(text)"
      ],
      "execution_count": 51,
      "outputs": [
        {
          "output_type": "stream",
          "text": [
            "|--- Employed? <= 0.50\n",
            "|   |--- Interned <= 0.50\n",
            "|   |   |--- Years Experience <= 0.50\n",
            "|   |   |   |--- Top-tier school <= 0.50\n",
            "|   |   |   |   |--- class: 0.0\n",
            "|   |   |   |--- Top-tier school >  0.50\n",
            "|   |   |   |   |--- class: 1.0\n",
            "|   |   |--- Years Experience >  0.50\n",
            "|   |   |   |--- class: 0.0\n",
            "|   |--- Interned >  0.50\n",
            "|   |   |--- class: 1.0\n",
            "|--- Employed? >  0.50\n",
            "|   |--- class: 1.0\n",
            "\n"
          ],
          "name": "stdout"
        }
      ]
    },
    {
      "cell_type": "code",
      "metadata": {
        "id": "Qhyuv649NGf4",
        "colab_type": "code",
        "colab": {
          "base_uri": "https://localhost:8080/",
          "height": 381
        },
        "outputId": "e58938d4-b7aa-4a4d-f6b8-0d23081d2810"
      },
      "source": [
        "import graphviz \n",
        "\n",
        "dot_data = tree.export_graphviz(decision_tree=model, \n",
        "                                feature_names=columns, \n",
        "                                class_names=['Rejected','Hired'], \n",
        "                                filled=True, \n",
        "                                impurity=False, \n",
        "                                proportion=True, \n",
        "                                rotate=True, \n",
        "                                rounded=True, \n",
        "                                precision=3)\n",
        "\n",
        "graph = graphviz.Source(dot_data) \n",
        "graph "
      ],
      "execution_count": 54,
      "outputs": [
        {
          "output_type": "execute_result",
          "data": {
            "text/plain": [
              "<graphviz.files.Source at 0x7f0f5dd41048>"
            ],
            "image/svg+xml": "<?xml version=\"1.0\" encoding=\"UTF-8\" standalone=\"no\"?>\n<!DOCTYPE svg PUBLIC \"-//W3C//DTD SVG 1.1//EN\"\n \"http://www.w3.org/Graphics/SVG/1.1/DTD/svg11.dtd\">\n<!-- Generated by graphviz version 2.40.1 (20161225.0304)\n -->\n<!-- Title: Tree Pages: 1 -->\n<svg width=\"890pt\" height=\"255pt\"\n viewBox=\"0.00 0.00 890.00 255.00\" xmlns=\"http://www.w3.org/2000/svg\" xmlns:xlink=\"http://www.w3.org/1999/xlink\">\n<g id=\"graph0\" class=\"graph\" transform=\"scale(1 1) rotate(0) translate(4 251)\">\n<title>Tree</title>\n<polygon fill=\"#ffffff\" stroke=\"transparent\" points=\"-4,4 -4,-251 886,-251 886,4 -4,4\"/>\n<!-- 0 -->\n<g id=\"node1\" class=\"node\">\n<title>0</title>\n<path fill=\"#91c9f1\" stroke=\"#000000\" d=\"M144,-99.5C144,-99.5 12,-99.5 12,-99.5 6,-99.5 0,-93.5 0,-87.5 0,-87.5 0,-43.5 0,-43.5 0,-37.5 6,-31.5 12,-31.5 12,-31.5 144,-31.5 144,-31.5 150,-31.5 156,-37.5 156,-43.5 156,-43.5 156,-87.5 156,-87.5 156,-93.5 150,-99.5 144,-99.5\"/>\n<text text-anchor=\"middle\" x=\"78\" y=\"-84.3\" font-family=\"Helvetica,sans-Serif\" font-size=\"14.00\" fill=\"#000000\">Employed? &lt;= 0.5</text>\n<text text-anchor=\"middle\" x=\"78\" y=\"-69.3\" font-family=\"Helvetica,sans-Serif\" font-size=\"14.00\" fill=\"#000000\">samples = 100.0%</text>\n<text text-anchor=\"middle\" x=\"78\" y=\"-54.3\" font-family=\"Helvetica,sans-Serif\" font-size=\"14.00\" fill=\"#000000\">value = [0.308, 0.692]</text>\n<text text-anchor=\"middle\" x=\"78\" y=\"-39.3\" font-family=\"Helvetica,sans-Serif\" font-size=\"14.00\" fill=\"#000000\">class = Hired</text>\n</g>\n<!-- 1 -->\n<g id=\"node2\" class=\"node\">\n<title>1</title>\n<path fill=\"#ffffff\" stroke=\"#000000\" d=\"M308,-139.5C308,-139.5 204,-139.5 204,-139.5 198,-139.5 192,-133.5 192,-127.5 192,-127.5 192,-83.5 192,-83.5 192,-77.5 198,-71.5 204,-71.5 204,-71.5 308,-71.5 308,-71.5 314,-71.5 320,-77.5 320,-83.5 320,-83.5 320,-127.5 320,-127.5 320,-133.5 314,-139.5 308,-139.5\"/>\n<text text-anchor=\"middle\" x=\"256\" y=\"-124.3\" font-family=\"Helvetica,sans-Serif\" font-size=\"14.00\" fill=\"#000000\">Interned &lt;= 0.5</text>\n<text text-anchor=\"middle\" x=\"256\" y=\"-109.3\" font-family=\"Helvetica,sans-Serif\" font-size=\"14.00\" fill=\"#000000\">samples = 61.5%</text>\n<text text-anchor=\"middle\" x=\"256\" y=\"-94.3\" font-family=\"Helvetica,sans-Serif\" font-size=\"14.00\" fill=\"#000000\">value = [0.5, 0.5]</text>\n<text text-anchor=\"middle\" x=\"256\" y=\"-79.3\" font-family=\"Helvetica,sans-Serif\" font-size=\"14.00\" fill=\"#000000\">class = Rejected</text>\n</g>\n<!-- 0&#45;&gt;1 -->\n<g id=\"edge1\" class=\"edge\">\n<title>0&#45;&gt;1</title>\n<path fill=\"none\" stroke=\"#000000\" d=\"M156.0734,-83.0446C164.6672,-84.9758 173.399,-86.938 181.9417,-88.8577\"/>\n<polygon fill=\"#000000\" stroke=\"#000000\" points=\"181.3396,-92.3096 191.8637,-91.0873 182.8744,-85.4799 181.3396,-92.3096\"/>\n<text text-anchor=\"middle\" x=\"170.7403\" y=\"-100.759\" font-family=\"Helvetica,sans-Serif\" font-size=\"14.00\" fill=\"#000000\">True</text>\n</g>\n<!-- 8 -->\n<g id=\"node9\" class=\"node\">\n<title>8</title>\n<path fill=\"#399de5\" stroke=\"#000000\" d=\"M308,-53C308,-53 204,-53 204,-53 198,-53 192,-47 192,-41 192,-41 192,-12 192,-12 192,-6 198,0 204,0 204,0 308,0 308,0 314,0 320,-6 320,-12 320,-12 320,-41 320,-41 320,-47 314,-53 308,-53\"/>\n<text text-anchor=\"middle\" x=\"256\" y=\"-37.8\" font-family=\"Helvetica,sans-Serif\" font-size=\"14.00\" fill=\"#000000\">samples = 38.5%</text>\n<text text-anchor=\"middle\" x=\"256\" y=\"-22.8\" font-family=\"Helvetica,sans-Serif\" font-size=\"14.00\" fill=\"#000000\">value = [0.0, 1.0]</text>\n<text text-anchor=\"middle\" x=\"256\" y=\"-7.8\" font-family=\"Helvetica,sans-Serif\" font-size=\"14.00\" fill=\"#000000\">class = Hired</text>\n</g>\n<!-- 0&#45;&gt;8 -->\n<g id=\"edge8\" class=\"edge\">\n<title>0&#45;&gt;8</title>\n<path fill=\"none\" stroke=\"#000000\" d=\"M156.0734,-48.394C164.6672,-46.5111 173.399,-44.598 181.9417,-42.7263\"/>\n<polygon fill=\"#000000\" stroke=\"#000000\" points=\"182.8445,-46.1116 191.8637,-40.5523 181.3463,-39.2738 182.8445,-46.1116\"/>\n<text text-anchor=\"middle\" x=\"170.8122\" y=\"-23.3677\" font-family=\"Helvetica,sans-Serif\" font-size=\"14.00\" fill=\"#000000\">False</text>\n</g>\n<!-- 2 -->\n<g id=\"node3\" class=\"node\">\n<title>2</title>\n<path fill=\"#eca06a\" stroke=\"#000000\" d=\"M519,-179.5C519,-179.5 368,-179.5 368,-179.5 362,-179.5 356,-173.5 356,-167.5 356,-167.5 356,-123.5 356,-123.5 356,-117.5 362,-111.5 368,-111.5 368,-111.5 519,-111.5 519,-111.5 525,-111.5 531,-117.5 531,-123.5 531,-123.5 531,-167.5 531,-167.5 531,-173.5 525,-179.5 519,-179.5\"/>\n<text text-anchor=\"middle\" x=\"443.5\" y=\"-164.3\" font-family=\"Helvetica,sans-Serif\" font-size=\"14.00\" fill=\"#000000\">Years Experience &lt;= 0.5</text>\n<text text-anchor=\"middle\" x=\"443.5\" y=\"-149.3\" font-family=\"Helvetica,sans-Serif\" font-size=\"14.00\" fill=\"#000000\">samples = 38.5%</text>\n<text text-anchor=\"middle\" x=\"443.5\" y=\"-134.3\" font-family=\"Helvetica,sans-Serif\" font-size=\"14.00\" fill=\"#000000\">value = [0.8, 0.2]</text>\n<text text-anchor=\"middle\" x=\"443.5\" y=\"-119.3\" font-family=\"Helvetica,sans-Serif\" font-size=\"14.00\" fill=\"#000000\">class = Rejected</text>\n</g>\n<!-- 1&#45;&gt;2 -->\n<g id=\"edge2\" class=\"edge\">\n<title>1&#45;&gt;2</title>\n<path fill=\"none\" stroke=\"#000000\" d=\"M320.0024,-119.1539C328.4042,-120.9462 337.1615,-122.8144 345.9634,-124.6922\"/>\n<polygon fill=\"#000000\" stroke=\"#000000\" points=\"345.3932,-128.1492 355.9033,-126.8127 346.8537,-121.3033 345.3932,-128.1492\"/>\n</g>\n<!-- 7 -->\n<g id=\"node8\" class=\"node\">\n<title>7</title>\n<path fill=\"#399de5\" stroke=\"#000000\" d=\"M495.5,-93C495.5,-93 391.5,-93 391.5,-93 385.5,-93 379.5,-87 379.5,-81 379.5,-81 379.5,-52 379.5,-52 379.5,-46 385.5,-40 391.5,-40 391.5,-40 495.5,-40 495.5,-40 501.5,-40 507.5,-46 507.5,-52 507.5,-52 507.5,-81 507.5,-81 507.5,-87 501.5,-93 495.5,-93\"/>\n<text text-anchor=\"middle\" x=\"443.5\" y=\"-77.8\" font-family=\"Helvetica,sans-Serif\" font-size=\"14.00\" fill=\"#000000\">samples = 23.1%</text>\n<text text-anchor=\"middle\" x=\"443.5\" y=\"-62.8\" font-family=\"Helvetica,sans-Serif\" font-size=\"14.00\" fill=\"#000000\">value = [0.0, 1.0]</text>\n<text text-anchor=\"middle\" x=\"443.5\" y=\"-47.8\" font-family=\"Helvetica,sans-Serif\" font-size=\"14.00\" fill=\"#000000\">class = Hired</text>\n</g>\n<!-- 1&#45;&gt;7 -->\n<g id=\"edge7\" class=\"edge\">\n<title>1&#45;&gt;7</title>\n<path fill=\"none\" stroke=\"#000000\" d=\"M320.0024,-92.1875C335.9041,-88.8799 353.0796,-85.3074 369.4203,-81.9086\"/>\n<polygon fill=\"#000000\" stroke=\"#000000\" points=\"370.3902,-85.2818 379.4679,-79.8187 368.9646,-78.4285 370.3902,-85.2818\"/>\n</g>\n<!-- 3 -->\n<g id=\"node4\" class=\"node\">\n<title>3</title>\n<path fill=\"#ffffff\" stroke=\"#000000\" d=\"M710,-219.5C710,-219.5 579,-219.5 579,-219.5 573,-219.5 567,-213.5 567,-207.5 567,-207.5 567,-163.5 567,-163.5 567,-157.5 573,-151.5 579,-151.5 579,-151.5 710,-151.5 710,-151.5 716,-151.5 722,-157.5 722,-163.5 722,-163.5 722,-207.5 722,-207.5 722,-213.5 716,-219.5 710,-219.5\"/>\n<text text-anchor=\"middle\" x=\"644.5\" y=\"-204.3\" font-family=\"Helvetica,sans-Serif\" font-size=\"14.00\" fill=\"#000000\">Top&#45;tier school &lt;= 0.5</text>\n<text text-anchor=\"middle\" x=\"644.5\" y=\"-189.3\" font-family=\"Helvetica,sans-Serif\" font-size=\"14.00\" fill=\"#000000\">samples = 15.4%</text>\n<text text-anchor=\"middle\" x=\"644.5\" y=\"-174.3\" font-family=\"Helvetica,sans-Serif\" font-size=\"14.00\" fill=\"#000000\">value = [0.5, 0.5]</text>\n<text text-anchor=\"middle\" x=\"644.5\" y=\"-159.3\" font-family=\"Helvetica,sans-Serif\" font-size=\"14.00\" fill=\"#000000\">class = Rejected</text>\n</g>\n<!-- 2&#45;&gt;3 -->\n<g id=\"edge3\" class=\"edge\">\n<title>2&#45;&gt;3</title>\n<path fill=\"none\" stroke=\"#000000\" d=\"M531.0768,-162.9282C539.6691,-164.6381 548.3895,-166.3735 556.9812,-168.0833\"/>\n<polygon fill=\"#000000\" stroke=\"#000000\" points=\"556.5017,-171.5565 566.9926,-170.0756 557.868,-164.6911 556.5017,-171.5565\"/>\n</g>\n<!-- 6 -->\n<g id=\"node7\" class=\"node\">\n<title>6</title>\n<path fill=\"#e58139\" stroke=\"#000000\" d=\"M696.5,-133C696.5,-133 592.5,-133 592.5,-133 586.5,-133 580.5,-127 580.5,-121 580.5,-121 580.5,-92 580.5,-92 580.5,-86 586.5,-80 592.5,-80 592.5,-80 696.5,-80 696.5,-80 702.5,-80 708.5,-86 708.5,-92 708.5,-92 708.5,-121 708.5,-121 708.5,-127 702.5,-133 696.5,-133\"/>\n<text text-anchor=\"middle\" x=\"644.5\" y=\"-117.8\" font-family=\"Helvetica,sans-Serif\" font-size=\"14.00\" fill=\"#000000\">samples = 23.1%</text>\n<text text-anchor=\"middle\" x=\"644.5\" y=\"-102.8\" font-family=\"Helvetica,sans-Serif\" font-size=\"14.00\" fill=\"#000000\">value = [1.0, 0.0]</text>\n<text text-anchor=\"middle\" x=\"644.5\" y=\"-87.8\" font-family=\"Helvetica,sans-Serif\" font-size=\"14.00\" fill=\"#000000\">class = Rejected</text>\n</g>\n<!-- 2&#45;&gt;6 -->\n<g id=\"edge6\" class=\"edge\">\n<title>2&#45;&gt;6</title>\n<path fill=\"none\" stroke=\"#000000\" d=\"M531.0768,-128.5075C544.1826,-125.9646 557.5865,-123.3638 570.377,-120.8821\"/>\n<polygon fill=\"#000000\" stroke=\"#000000\" points=\"571.3356,-124.2614 580.4858,-118.9207 570.0022,-117.3896 571.3356,-124.2614\"/>\n</g>\n<!-- 4 -->\n<g id=\"node5\" class=\"node\">\n<title>4</title>\n<path fill=\"#e58139\" stroke=\"#000000\" d=\"M870,-247C870,-247 770,-247 770,-247 764,-247 758,-241 758,-235 758,-235 758,-206 758,-206 758,-200 764,-194 770,-194 770,-194 870,-194 870,-194 876,-194 882,-200 882,-206 882,-206 882,-235 882,-235 882,-241 876,-247 870,-247\"/>\n<text text-anchor=\"middle\" x=\"820\" y=\"-231.8\" font-family=\"Helvetica,sans-Serif\" font-size=\"14.00\" fill=\"#000000\">samples = 7.7%</text>\n<text text-anchor=\"middle\" x=\"820\" y=\"-216.8\" font-family=\"Helvetica,sans-Serif\" font-size=\"14.00\" fill=\"#000000\">value = [1.0, 0.0]</text>\n<text text-anchor=\"middle\" x=\"820\" y=\"-201.8\" font-family=\"Helvetica,sans-Serif\" font-size=\"14.00\" fill=\"#000000\">class = Rejected</text>\n</g>\n<!-- 3&#45;&gt;4 -->\n<g id=\"edge4\" class=\"edge\">\n<title>3&#45;&gt;4</title>\n<path fill=\"none\" stroke=\"#000000\" d=\"M722.2433,-201.0044C730.8102,-202.7129 739.5059,-204.4471 747.9983,-206.1407\"/>\n<polygon fill=\"#000000\" stroke=\"#000000\" points=\"747.3627,-209.5828 757.8542,-208.1062 748.7318,-202.718 747.3627,-209.5828\"/>\n</g>\n<!-- 5 -->\n<g id=\"node6\" class=\"node\">\n<title>5</title>\n<path fill=\"#399de5\" stroke=\"#000000\" d=\"M869.5,-176C869.5,-176 770.5,-176 770.5,-176 764.5,-176 758.5,-170 758.5,-164 758.5,-164 758.5,-135 758.5,-135 758.5,-129 764.5,-123 770.5,-123 770.5,-123 869.5,-123 869.5,-123 875.5,-123 881.5,-129 881.5,-135 881.5,-135 881.5,-164 881.5,-164 881.5,-170 875.5,-176 869.5,-176\"/>\n<text text-anchor=\"middle\" x=\"820\" y=\"-160.8\" font-family=\"Helvetica,sans-Serif\" font-size=\"14.00\" fill=\"#000000\">samples = 7.7%</text>\n<text text-anchor=\"middle\" x=\"820\" y=\"-145.8\" font-family=\"Helvetica,sans-Serif\" font-size=\"14.00\" fill=\"#000000\">value = [0.0, 1.0]</text>\n<text text-anchor=\"middle\" x=\"820\" y=\"-130.8\" font-family=\"Helvetica,sans-Serif\" font-size=\"14.00\" fill=\"#000000\">class = Hired</text>\n</g>\n<!-- 3&#45;&gt;5 -->\n<g id=\"edge5\" class=\"edge\">\n<title>3&#45;&gt;5</title>\n<path fill=\"none\" stroke=\"#000000\" d=\"M722.2433,-169.5527C730.9419,-167.7683 739.7735,-165.9567 748.3901,-164.1892\"/>\n<polygon fill=\"#000000\" stroke=\"#000000\" points=\"749.2928,-167.577 758.3855,-162.1389 747.8862,-160.7198 749.2928,-167.577\"/>\n</g>\n</g>\n</svg>\n"
          },
          "metadata": {
            "tags": []
          },
          "execution_count": 54
        }
      ]
    }
  ]
}